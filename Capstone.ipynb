{
    "cells": [
        {
            "cell_type": "markdown",
            "metadata": {},
            "source": "## Data Understanding"
        },
        {
            "cell_type": "markdown",
            "metadata": {},
            "source": "The data set used for this report will be that provided by Coursera (Data-Collisions.csv). The attributes used for the machine learning model are as follow:\n\n- SEVERITYCODE (quantifying the severity of the acccident on a scale of 0(lowest) - 4 (highest))\n- WEATHER (description of the weather conditions in a string format)\n- ROADCOND (description of the road conditions in a string format)\n- LIGHTCOND (description of the light conditions in a string format)"
        },
        {
            "cell_type": "markdown",
            "metadata": {},
            "source": "## Data Preparation"
        },
        {
            "cell_type": "markdown",
            "metadata": {},
            "source": "The first step within the data preparation will be to simplify the dataset by using only the required attributes (columns)"
        },
        {
            "cell_type": "code",
            "execution_count": 1,
            "metadata": {},
            "outputs": [],
            "source": "#importing required packages \nimport pandas as pd \nimport numpy as np \nimport sklearn as skl\nimport matplotlib.pyplot as plt\n%matplotlib inline"
        },
        {
            "cell_type": "code",
            "execution_count": 2,
            "metadata": {},
            "outputs": [
                {
                    "name": "stderr",
                    "output_type": "stream",
                    "text": "/opt/conda/envs/Python36/lib/python3.6/site-packages/IPython/core/interactiveshell.py:3020: DtypeWarning: Columns (33) have mixed types. Specify dtype option on import or set low_memory=False.\n  interactivity=interactivity, compiler=compiler, result=result)\n"
                }
            ],
            "source": "#importing the dataset based on provided link \nURL = \"https://s3.us.cloud-object-storage.appdomain.cloud/cf-courses-data/CognitiveClass/DP0701EN/version-2/Data-Collisions.csv\"\nimport_df = pd.read_csv(URL) #importing the entire dataset "
        },
        {
            "cell_type": "code",
            "execution_count": 3,
            "metadata": {},
            "outputs": [],
            "source": "#selecting only desired attributes from dataframe \ndf = import_df[['SEVERITYCODE', 'WEATHER', 'ROADCOND', 'LIGHTCOND']]"
        },
        {
            "cell_type": "markdown",
            "metadata": {},
            "source": "### Data Cleaning"
        },
        {
            "cell_type": "markdown",
            "metadata": {},
            "source": "The next step is the cleaning up of the data, we will be removing all missing and unknonwn data from out dataframe"
        },
        {
            "cell_type": "code",
            "execution_count": 4,
            "metadata": {},
            "outputs": [
                {
                    "name": "stderr",
                    "output_type": "stream",
                    "text": "/opt/conda/envs/Python36/lib/python3.6/site-packages/pandas/core/frame.py:4042: SettingWithCopyWarning: \nA value is trying to be set on a copy of a slice from a DataFrame\n\nSee the caveats in the documentation: http://pandas.pydata.org/pandas-docs/stable/indexing.html#indexing-view-versus-copy\n  method=method)\n/opt/conda/envs/Python36/lib/python3.6/site-packages/ipykernel/__main__.py:3: SettingWithCopyWarning: \nA value is trying to be set on a copy of a slice from a DataFrame\n\nSee the caveats in the documentation: http://pandas.pydata.org/pandas-docs/stable/indexing.html#indexing-view-versus-copy\n  app.launch_new_instance()\n"
                }
            ],
            "source": "df.replace(\"\", np.nan, inplace=True)#replace all empty data points with Nan \ndf.replace(\"Unknown\", np.nan, inplace=True) #replace all unknown data points with Nan \ndf.dropna(axis=0, inplace=True) #drop all rows containing Nan data points"
        },
        {
            "cell_type": "code",
            "execution_count": 5,
            "metadata": {},
            "outputs": [
                {
                    "data": {
                        "text/html": "<div>\n<style scoped>\n    .dataframe tbody tr th:only-of-type {\n        vertical-align: middle;\n    }\n\n    .dataframe tbody tr th {\n        vertical-align: top;\n    }\n\n    .dataframe thead th {\n        text-align: right;\n    }\n</style>\n<table border=\"1\" class=\"dataframe\">\n  <thead>\n    <tr style=\"text-align: right;\">\n      <th></th>\n      <th>SEVERITYCODE</th>\n      <th>WEATHER</th>\n      <th>ROADCOND</th>\n      <th>LIGHTCOND</th>\n    </tr>\n  </thead>\n  <tbody>\n  </tbody>\n</table>\n</div>",
                        "text/plain": "Empty DataFrame\nColumns: [SEVERITYCODE, WEATHER, ROADCOND, LIGHTCOND]\nIndex: []"
                    },
                    "execution_count": 5,
                    "metadata": {},
                    "output_type": "execute_result"
                }
            ],
            "source": "df[df.isnull().any(axis=1)] #ensuring there are no Nan variables in our dataframe"
        },
        {
            "cell_type": "code",
            "execution_count": 6,
            "metadata": {},
            "outputs": [
                {
                    "data": {
                        "text/plain": "SEVERITYCODE     int64\nWEATHER         object\nROADCOND        object\nLIGHTCOND       object\ndtype: object"
                    },
                    "execution_count": 6,
                    "metadata": {},
                    "output_type": "execute_result"
                }
            ],
            "source": "df.dtypes #parameters are of type object, which must be changed prior to proceeding"
        },
        {
            "cell_type": "code",
            "execution_count": 7,
            "metadata": {},
            "outputs": [],
            "source": "#converting objects to type category for label encoding\nweather_df = df[\"WEATHER\"].astype('category')\nroadcond_df = df[\"ROADCOND\"].astype('category')\nlightcond_df = df[\"LIGHTCOND\"].astype('category')\nweather_df = weather_df.cat.codes\nroadcond_df = roadcond_df.cat.codes\nlightcond_df = lightcond_df.cat.codes"
        },
        {
            "cell_type": "code",
            "execution_count": 8,
            "metadata": {},
            "outputs": [
                {
                    "data": {
                        "text/html": "<div>\n<style scoped>\n    .dataframe tbody tr th:only-of-type {\n        vertical-align: middle;\n    }\n\n    .dataframe tbody tr th {\n        vertical-align: top;\n    }\n\n    .dataframe thead th {\n        text-align: right;\n    }\n</style>\n<table border=\"1\" class=\"dataframe\">\n  <thead>\n    <tr style=\"text-align: right;\">\n      <th></th>\n      <th>SEVERITYCODE</th>\n      <th>WEATHER</th>\n      <th>ROADCON</th>\n      <th>LIGHTCOND</th>\n      <th>WEATHER_CAT</th>\n      <th>ROADCOND_CAT</th>\n      <th>LIGHTCOND_CAT</th>\n    </tr>\n  </thead>\n  <tbody>\n    <tr>\n      <th>0</th>\n      <td>2</td>\n      <td>Overcast</td>\n      <td>Wet</td>\n      <td>Daylight</td>\n      <td>4</td>\n      <td>7</td>\n      <td>5</td>\n    </tr>\n    <tr>\n      <th>1</th>\n      <td>1</td>\n      <td>Raining</td>\n      <td>Wet</td>\n      <td>Dark - Street Lights On</td>\n      <td>6</td>\n      <td>7</td>\n      <td>2</td>\n    </tr>\n    <tr>\n      <th>2</th>\n      <td>1</td>\n      <td>Overcast</td>\n      <td>Dry</td>\n      <td>Daylight</td>\n      <td>4</td>\n      <td>0</td>\n      <td>5</td>\n    </tr>\n    <tr>\n      <th>3</th>\n      <td>1</td>\n      <td>Clear</td>\n      <td>Dry</td>\n      <td>Daylight</td>\n      <td>1</td>\n      <td>0</td>\n      <td>5</td>\n    </tr>\n    <tr>\n      <th>4</th>\n      <td>2</td>\n      <td>Raining</td>\n      <td>Wet</td>\n      <td>Daylight</td>\n      <td>6</td>\n      <td>7</td>\n      <td>5</td>\n    </tr>\n  </tbody>\n</table>\n</div>",
                        "text/plain": "   SEVERITYCODE   WEATHER ROADCON                LIGHTCOND  WEATHER_CAT  \\\n0             2  Overcast     Wet                 Daylight            4   \n1             1   Raining     Wet  Dark - Street Lights On            6   \n2             1  Overcast     Dry                 Daylight            4   \n3             1     Clear     Dry                 Daylight            1   \n4             2   Raining     Wet                 Daylight            6   \n\n   ROADCOND_CAT  LIGHTCOND_CAT  \n0             7              5  \n1             7              2  \n2             0              5  \n3             0              5  \n4             7              5  "
                    },
                    "execution_count": 8,
                    "metadata": {},
                    "output_type": "execute_result"
                }
            ],
            "source": "#concat all dataframes into a single one \nhorizontal_stack = pd.concat([df, weather_df, roadcond_df, lightcond_df], axis=1) \ndf = horizontal_stack\n\n#renaming the column headers to the appropriate name\ndf.columns = ['SEVERITYCODE', 'WEATHER', 'ROADCON', 'LIGHTCOND', 'WEATHER_CAT', 'ROADCOND_CAT', 'LIGHTCOND_CAT']\ndf.head()"
        },
        {
            "cell_type": "markdown",
            "metadata": {},
            "source": "The last step of the data preparation phase is to ensure that our dataset is balanced. "
        },
        {
            "cell_type": "code",
            "execution_count": 9,
            "metadata": {},
            "outputs": [
                {
                    "data": {
                        "text/plain": "1    114659\n2     55851\nName: SEVERITYCODE, dtype: int64"
                    },
                    "execution_count": 9,
                    "metadata": {},
                    "output_type": "execute_result"
                }
            ],
            "source": "#checking frequency of each integer within SEVERITYCODE\ndf['SEVERITYCODE'].value_counts()"
        },
        {
            "cell_type": "markdown",
            "metadata": {},
            "source": "As it can be observed from that above data, our dataset is more skewed towards the SEVERITYCODE = 1\n\nTherefore, we are required to balance the dataset prior to moving forward"
        },
        {
            "cell_type": "code",
            "execution_count": 10,
            "metadata": {},
            "outputs": [],
            "source": "#importing the required package for resampling\nfrom sklearn.utils import resample  "
        },
        {
            "cell_type": "code",
            "execution_count": 11,
            "metadata": {},
            "outputs": [],
            "source": "#creating new dataframes based on SEVERITYCODE\ndf_major = df[df.SEVERITYCODE==1]\ndf_minor = df[df.SEVERITYCODE==2]\n\n#resampling df_major to the same size as that of df_minor\ndf_major_downsampled = resample(df_major, replace=False, n_samples=55851, random_state=13)"
        },
        {
            "cell_type": "code",
            "execution_count": 12,
            "metadata": {},
            "outputs": [],
            "source": "#concatenate both the dataframes into balanced dataframe\ndf_downsampled = pd.concat([df_major_downsampled, df_minor])"
        },
        {
            "cell_type": "code",
            "execution_count": 13,
            "metadata": {},
            "outputs": [
                {
                    "data": {
                        "text/plain": "2    55851\n1    55851\nName: SEVERITYCODE, dtype: int64"
                    },
                    "execution_count": 13,
                    "metadata": {},
                    "output_type": "execute_result"
                }
            ],
            "source": "#ensuring the dataframe is balanced\ndf_downsampled.SEVERITYCODE.value_counts()"
        },
        {
            "cell_type": "code",
            "execution_count": 14,
            "metadata": {},
            "outputs": [
                {
                    "data": {
                        "text/plain": "(111702, 7)"
                    },
                    "execution_count": 14,
                    "metadata": {},
                    "output_type": "execute_result"
                }
            ],
            "source": "#using df for simplicity\ndf = df_downsampled\ndf.shape"
        },
        {
            "cell_type": "markdown",
            "metadata": {},
            "source": "Three classification algorithms will be used for the modeling section:\n- K-Nearest Neighbors -> Method of classifying based on their similarity \n- Decision Trees -> Displays the outcome to each decision \n- Logistic Regression -> Classificaton algorithm based on categorical variables \n"
        },
        {
            "cell_type": "markdown",
            "metadata": {},
            "source": "### Evaluation Indeces"
        },
        {
            "cell_type": "code",
            "execution_count": 15,
            "metadata": {},
            "outputs": [],
            "source": "#importing the required library \nfrom sklearn.metrics import log_loss\nfrom sklearn.metrics import f1_score\nfrom sklearn.metrics import jaccard_similarity_score \n\n#Max parameter for loops will be set to an arbitrary value\nmax_loop = 26"
        },
        {
            "cell_type": "markdown",
            "metadata": {},
            "source": "### Initialization "
        },
        {
            "cell_type": "code",
            "execution_count": 16,
            "metadata": {},
            "outputs": [],
            "source": "#Defining X and y\nX = np.asarray(df[['WEATHER_CAT', 'ROADCOND_CAT','LIGHTCOND_CAT']]) #independent variable\ny = np.asarray(df['SEVERITYCODE']) #dependent variable"
        },
        {
            "cell_type": "markdown",
            "metadata": {},
            "source": "### Data Normalization"
        },
        {
            "cell_type": "code",
            "execution_count": 17,
            "metadata": {},
            "outputs": [
                {
                    "name": "stderr",
                    "output_type": "stream",
                    "text": "/opt/conda/envs/Python36/lib/python3.6/site-packages/sklearn/utils/validation.py:595: DataConversionWarning: Data with input dtype int8 was converted to float64 by StandardScaler.\n  warnings.warn(msg, DataConversionWarning)\n/opt/conda/envs/Python36/lib/python3.6/site-packages/sklearn/utils/validation.py:595: DataConversionWarning: Data with input dtype int8 was converted to float64 by StandardScaler.\n  warnings.warn(msg, DataConversionWarning)\n"
                }
            ],
            "source": "#Import the required library \nfrom sklearn import preprocessing \n\n#Normalizing dataset \nX = preprocessing.StandardScaler().fit(X).transform(X)"
        },
        {
            "cell_type": "markdown",
            "metadata": {},
            "source": "### Spliting Data into Train/Test"
        },
        {
            "cell_type": "code",
            "execution_count": 18,
            "metadata": {},
            "outputs": [
                {
                    "name": "stdout",
                    "output_type": "stream",
                    "text": "Train set:  (78191, 3) (78191,)\nTest set:  (33511, 3) (33511,)\n"
                }
            ],
            "source": "#import the required library \nfrom sklearn.model_selection import train_test_split\n\n#Split the data into training and testing set\nX_train, X_test, y_train, y_test =train_test_split(X,y,test_size=0.3, random_state=4)\nprint(\"Train set: \", X_train.shape, y_train.shape)\nprint(\"Test set: \",X_test.shape, y_test.shape)"
        },
        {
            "cell_type": "markdown",
            "metadata": {},
            "source": "### K-Nearest Neighbors"
        },
        {
            "cell_type": "code",
            "execution_count": 19,
            "metadata": {},
            "outputs": [
                {
                    "data": {
                        "text/plain": "array([0.51526364, 0.51586046, 0.51517412, 0.4979559 , 0.51224971,\n       0.49771717, 0.51320462, 0.51201098, 0.51341351, 0.51213035,\n       0.51213035, 0.51150369, 0.51102623, 0.51299573, 0.51111575,\n       0.51281669, 0.50971323, 0.51198114, 0.51120528, 0.51153353,\n       0.51126496, 0.51168273, 0.51174241, 0.51165289, 0.51156337])"
                    },
                    "execution_count": 19,
                    "metadata": {},
                    "output_type": "execute_result"
                }
            ],
            "source": "#importing the required library\nfrom sklearn.neighbors import KNeighborsClassifier\nfrom sklearn import metrics\n\n#Looping across K parameter \nKs = max_loop\nmean_acc = np.zeros((Ks-1))\nstd_acc = np.zeros((Ks-1))\nConfustionMx = [];\nfor n in range(1,Ks):\n    #Train Model and Predict  \n    KNNneigh = KNeighborsClassifier(n_neighbors = n).fit(X_train,y_train)\n    KNNyhat=KNNneigh.predict(X_test)\n    mean_acc[n-1] = metrics.accuracy_score(y_test, KNNyhat)\n    std_acc[n-1]=np.std(KNNyhat==y_test)/np.sqrt(KNNyhat.shape[0])\nmean_acc"
        },
        {
            "cell_type": "code",
            "execution_count": 20,
            "metadata": {},
            "outputs": [
                {
                    "data": {
                        "image/png": "[encoded data removed]",
                        "text/plain": "<Figure size 432x288 with 1 Axes>"
                    },
                    "metadata": {
                        "needs_background": "light"
                    },
                    "output_type": "display_data"
                }
            ],
            "source": "#plot the accuracy of the model with increments in K\nplt.plot(range(1,Ks),mean_acc,'g')\nplt.fill_between(range(1,Ks),mean_acc - 1 * std_acc,mean_acc + 1 * std_acc, alpha=0.10)\nplt.legend(('Accuracy ', '+/- 3xstd'))\nplt.ylabel('Accuracy ')\nplt.xlabel('Number of Neighbors (K)')\nplt.tight_layout()\nplt.show()"
        },
        {
            "cell_type": "markdown",
            "metadata": {},
            "source": "The highest accuracy is observed at K=2, therefore we will evaluate the \naccuracy of the model at K=2"
        },
        {
            "cell_type": "code",
            "execution_count": 21,
            "metadata": {},
            "outputs": [
                {
                    "name": "stdout",
                    "output_type": "stream",
                    "text": "F1-score:  0.4295358649789029\nJaccard Index:  0.5158604637283281\n"
                }
            ],
            "source": "neigh = KNeighborsClassifier(n_neighbors=2).fit(X_train,y_train)\nyhat = neigh.predict(X_test)\nKNN_f1_score = f1_score(y_test, yhat)\nKNN_jaccard = jaccard_similarity_score(y_test,yhat)\nprint('F1-score: ',KNN_f1_score)\nprint('Jaccard Index: ', KNN_jaccard)"
        },
        {
            "cell_type": "markdown",
            "metadata": {},
            "source": "### Decision Tree "
        },
        {
            "cell_type": "code",
            "execution_count": 22,
            "metadata": {},
            "outputs": [],
            "source": "#importing the required library\nfrom sklearn.tree import DecisionTreeClassifier"
        },
        {
            "cell_type": "code",
            "execution_count": 23,
            "metadata": {},
            "outputs": [
                {
                    "name": "stdout",
                    "output_type": "stream",
                    "text": "0.38213494307327883 2\n"
                }
            ],
            "source": "#Looping across the max depth parameter\nmax_param = max_loop\nf1_param = 0\n\nfor i in range(1,max_param):\n    dfTree = DecisionTreeClassifier(criterion = \"entropy\", max_depth = i)\n    dfTree.fit(X_train, y_train)\n    DTyhat = dfTree.predict(X_test)\n    DT_jaccard = jaccard_similarity_score(y_test,DTyhat)\n    DT_f1 = f1_score(y_test, DTyhat)\n    if DT_f1 > f1_param:  \n        f1_param = DT_f1 \n        optimum_depth = i\nprint(f1_param, optimum_depth)"
        },
        {
            "cell_type": "markdown",
            "metadata": {},
            "source": "The optimum max_depth was identified to be 2, therefore we will evaluate the accuracy of the model at max_depth = 2"
        },
        {
            "cell_type": "code",
            "execution_count": 24,
            "metadata": {},
            "outputs": [
                {
                    "name": "stdout",
                    "output_type": "stream",
                    "text": "F1-score:  0.38213494307327883\nJaccard Indes:  0.5174121930112501\n"
                }
            ],
            "source": "dfTree_optimum = DecisionTreeClassifier(criterion = \"entropy\", max_depth = 2)\ndfTree_optimum.fit(X_train, y_train)\nDTyhat_optimum = dfTree_optimum.predict(X_test)\nDT_jaccard_optimum = jaccard_similarity_score(y_test,DTyhat_optimum)\nDT_f1_optimum = f1_score(y_test, DTyhat_optimum)\nprint('F1-score: ', DT_f1_optimum)\nprint('Jaccard Index: ', DT_jaccard_optimum)"
        },
        {
            "cell_type": "markdown",
            "metadata": {},
            "source": "### Logistic Regression"
        },
        {
            "cell_type": "code",
            "execution_count": 25,
            "metadata": {},
            "outputs": [],
            "source": "#importing the requires library \nfrom sklearn.linear_model import LogisticRegression\nfrom sklearn.metrics import confusion_matrix\n\n#setting the C parameter value \nC_param_range = [0.001, 0.01, 0.1, 1, 10, 100]"
        },
        {
            "cell_type": "code",
            "execution_count": 26,
            "metadata": {},
            "outputs": [
                {
                    "name": "stdout",
                    "output_type": "stream",
                    "text": "Max F1-score:  0.3851143735063161\nOptimum N:  0.01\n"
                }
            ],
            "source": "#Looping across different C parameter\nparam = 0\n\nfor n in C_param_range:\n    LR = LogisticRegression(C=n, solver='sag').fit(X_train,y_train)\n    LRyhat = LR.predict(X_test)\n    yhat_prob = LR.predict_proba(X_test)\n    LR_f1 = f1_score(y_test, LRyhat)\n    LR_jaccard = jaccard_similarity_score(y_test,LRyhat)\n    LR_log = log_loss(y_test, yhat_prob)\n    if param < LR_f1:\n        param = LR_f1\n        c_param = n\nprint('Max F1-score: ',param)\nprint('Optimum N: ', c_param)"
        },
        {
            "cell_type": "code",
            "execution_count": 29,
            "metadata": {},
            "outputs": [
                {
                    "name": "stdout",
                    "output_type": "stream",
                    "text": "F1-score:  0.3851143735063161\nJaccard Index:  0.5163080779445555\nLog Loss:  0.6923922082300892\n"
                }
            ],
            "source": "LR_optimum = LogisticRegression(C=0.01, solver='sag').fit(X_train,y_train)\nLRyhat_optimum = LR_optimum.predict(X_test)\nyhat_prob_optimum = LR_optimum.predict_proba(X_test)\nLR_f1_optimum = f1_score(y_test, LRyhat_optimum)\nLR_jaccard_optimum = jaccard_similarity_score(y_test,LRyhat_optimum)\nLR_log_optimum = log_loss(y_test, yhat_prob_optimum)\nprint('F1-score: ', LR_f1_optimum)\nprint('Jaccard Index: ', LR_jaccard_optimum)\nprint('Log Loss: ', LR_log_optimum)"
        },
        {
            "cell_type": "markdown",
            "metadata": {},
            "source": "## Conclusion"
        },
        {
            "cell_type": "markdown",
            "metadata": {},
            "source": "Based on the F1-score it is clear that K-ne"
        }
    ],
    "metadata": {
        "kernelspec": {
            "display_name": "Python 3.6",
            "language": "python",
            "name": "python3"
        },
        "language_info": {
            "codemirror_mode": {
                "name": "ipython",
                "version": 3
            },
            "file_extension": ".py",
            "mimetype": "text/x-python",
            "name": "python",
            "nbconvert_exporter": "python",
            "pygments_lexer": "ipython3",
            "version": "3.6.9"
        }
    },
    "nbformat": 4,
    "nbformat_minor": 1
}