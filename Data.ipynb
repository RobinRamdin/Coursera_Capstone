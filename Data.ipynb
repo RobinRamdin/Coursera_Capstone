{
    "cells": [
        {
            "cell_type": "markdown",
            "metadata": {
                "collapsed": true
            },
            "source": "# Data "
        },
        {
            "cell_type": "markdown",
            "metadata": {},
            "source": "## Data Understanding"
        },
        {
            "cell_type": "markdown",
            "metadata": {},
            "source": "The data set used for this report will be that provided by Coursera (Data-Collisions.csv). The attributes used for the machine learning model are as follow: \n- SEVERITYCODE (quantifying the severity of the acccident on a scale of 0(lowest) - 4 (highest))\n- WEATHER (description of the weather conditions in a string format)\n- ROADCOND (description of the road conditions in a string format)\n- LIGHTCOND (description of the light conditions in a string format)\n"
        },
        {
            "cell_type": "markdown",
            "metadata": {},
            "source": "## Data Preparation "
        },
        {
            "cell_type": "markdown",
            "metadata": {},
            "source": "With the attributes identified, the next phase will be the data preparation. The folowing steps describe the data preparation procedure: \n- Visual assessment of data highlighted missing data which can potentially skew the machine learning model if not replaced properly in the filling data set. Therefore to avoid this potential problem, all rows with one or more missing attribute data will be removed from the machine learning model. \n- Similarly the same process will take place for \"unknown data\". \n- Data present in the string format will be transformed to numerical values. \n- Data will be balanced to avoid model from being skewed.\n\nSome examples of the data preparation process are given below"
        },
        {
            "cell_type": "code",
            "execution_count": 1,
            "metadata": {},
            "outputs": [],
            "source": "import pandas as pd \nimport numpy as np"
        },
        {
            "cell_type": "code",
            "execution_count": 2,
            "metadata": {},
            "outputs": [
                {
                    "name": "stderr",
                    "output_type": "stream",
                    "text": "/opt/conda/envs/Python36/lib/python3.6/site-packages/IPython/core/interactiveshell.py:3020: DtypeWarning: Columns (33) have mixed types. Specify dtype option on import or set low_memory=False.\n  interactivity=interactivity, compiler=compiler, result=result)\n"
                }
            ],
            "source": "URL = \"https://s3.us.cloud-object-storage.appdomain.cloud/cf-courses-data/CognitiveClass/DP0701EN/version-2/Data-Collisions.csv\"\nimport_df = pd.read_csv(URL)"
        },
        {
            "cell_type": "code",
            "execution_count": 3,
            "metadata": {},
            "outputs": [
                {
                    "data": {
                        "text/plain": "(194673, 4)"
                    },
                    "execution_count": 3,
                    "metadata": {},
                    "output_type": "execute_result"
                }
            ],
            "source": "df = import_df[['SEVERITYCODE', 'WEATHER', 'ROADCOND', 'LIGHTCOND']]\ndf.shape"
        },
        {
            "cell_type": "code",
            "execution_count": 4,
            "metadata": {},
            "outputs": [
                {
                    "name": "stderr",
                    "output_type": "stream",
                    "text": "/opt/conda/envs/Python36/lib/python3.6/site-packages/pandas/core/frame.py:4042: SettingWithCopyWarning: \nA value is trying to be set on a copy of a slice from a DataFrame\n\nSee the caveats in the documentation: http://pandas.pydata.org/pandas-docs/stable/indexing.html#indexing-view-versus-copy\n  method=method)\n"
                }
            ],
            "source": "df.replace(\"\", np.nan, inplace=True)"
        },
        {
            "cell_type": "code",
            "execution_count": 5,
            "metadata": {},
            "outputs": [],
            "source": "df.replace(\"Unknown\", np.nan, inplace=True)"
        },
        {
            "cell_type": "code",
            "execution_count": 6,
            "metadata": {},
            "outputs": [
                {
                    "name": "stderr",
                    "output_type": "stream",
                    "text": "/opt/conda/envs/Python36/lib/python3.6/site-packages/ipykernel/__main__.py:1: SettingWithCopyWarning: \nA value is trying to be set on a copy of a slice from a DataFrame\n\nSee the caveats in the documentation: http://pandas.pydata.org/pandas-docs/stable/indexing.html#indexing-view-versus-copy\n  if __name__ == '__main__':\n"
                }
            ],
            "source": "df.dropna(axis=0, inplace=True)"
        },
        {
            "cell_type": "code",
            "execution_count": 7,
            "metadata": {},
            "outputs": [
                {
                    "data": {
                        "text/plain": "(170510, 4)"
                    },
                    "execution_count": 7,
                    "metadata": {},
                    "output_type": "execute_result"
                }
            ],
            "source": "df.shape"
        }
    ],
    "metadata": {
        "kernelspec": {
            "display_name": "Python 3.6",
            "language": "python",
            "name": "python3"
        },
        "language_info": {
            "codemirror_mode": {
                "name": "ipython",
                "version": 3
            },
            "file_extension": ".py",
            "mimetype": "text/x-python",
            "name": "python",
            "nbconvert_exporter": "python",
            "pygments_lexer": "ipython3",
            "version": "3.6.9"
        }
    },
    "nbformat": 4,
    "nbformat_minor": 1
}